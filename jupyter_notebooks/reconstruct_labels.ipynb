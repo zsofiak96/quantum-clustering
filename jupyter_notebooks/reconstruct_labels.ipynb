{
 "cells": [
  {
   "cell_type": "code",
   "execution_count": 13,
   "metadata": {
    "pycharm": {
     "name": "#%%\n"
    }
   },
   "outputs": [],
   "source": [
    "from PIL import Image\n",
    "import numpy as np\n",
    "import pandas as pd\n",
    "from webcolors import name_to_rgb, rgb_to_name\n",
    "from math import sqrt\n",
    "import matplotlib.pyplot as plt\n",
    "\n",
    "# load the image\n",
    "image = Image.open('reconstructed_images/original_3.jpg')\n",
    "\n",
    "# convert image to numpy array\n",
    "data = np.asarray(image)\n",
    "\n",
    "COLORS_1 = (\n",
    "    (255, 255, 0), # yellow\n",
    "    (128, 0, 128), # purple\n",
    "    (255, 192, 203), # pink\n",
    "    (255, 0, 0), # red\n",
    "    (0, 0, 0), #black\n",
    "    (0, 0, 255), # blue\n",
    "    (0, 255, 0), # lime\n",
    "    (0, 128, 0), # green\n",
    ")\n",
    "\n",
    "\n",
    "def closest_color(rgb, COLORS):\n",
    "    r, g, b = rgb\n",
    "    color_diffs = []\n",
    "    for color in COLORS:\n",
    "        cr, cg, cb = color\n",
    "        color_diff = sqrt(abs(r - cr)**2 + abs(g - cg)**2 + abs(b - cb)**2)\n",
    "        color_diffs.append((color_diff, color))\n",
    "    return min(color_diffs)[1]\n",
    "\n",
    "\n",
    "get_colors = data.reshape(1, 75*75,3)[0]\n",
    "get_rgb_colors_as_tuple = [tuple(i) for i in get_colors]\n",
    "get_closest_rgb_color = [closest_color(i, COLORS=COLORS_1) for i in get_rgb_colors_as_tuple]\n",
    "get_color_names = [rgb_to_name(i) for i in get_closest_rgb_color]"
   ]
  },
  {
   "cell_type": "code",
   "execution_count": 14,
   "metadata": {
    "pycharm": {
     "name": "#%%\n"
    }
   },
   "outputs": [
    {
     "data": {
      "text/plain": [
       "<matplotlib.image.AxesImage at 0x7fa9e69bf220>"
      ]
     },
     "execution_count": 14,
     "metadata": {},
     "output_type": "execute_result"
    },
    {
     "data": {
      "image/png": "[encoded data removed]",
      "text/plain": [
       "<Figure size 432x288 with 1 Axes>"
      ]
     },
     "metadata": {
      "needs_background": "light"
     },
     "output_type": "display_data"
    }
   ],
   "source": [
    "test_image = np.array((get_closest_rgb_color)).reshape((75,75,3))\n",
    "plt.figure()\n",
    "plt.axis('off')\n",
    "plt.imshow(test_image)"
   ]
  },
  {
   "cell_type": "code",
   "execution_count": 15,
   "metadata": {
    "pycharm": {
     "name": "#%%\n"
    }
   },
   "outputs": [],
   "source": [
    "label_color_map = {\n",
    "    'nanoplatform': 'yellow', # yellow\n",
    "    'organelles': 'purple', # purple\n",
    "    'lysosome': 'pink', # pink\n",
    "    'intracellular_matrix': 'red', # red\n",
    "    'PBS': 'black', # black\n",
    "    'cell_membrane': 'blue', # blue\n",
    "    'nanoplatform_lysosomes_1': 'lime', # lime\n",
    "    'nanoplatform_lysosomes_2': 'green', # green\n",
    " }\n",
    "\n",
    "label_code_map = {\n",
    "    'nanoplatform': 0, # yellow\n",
    "    'organelles': 1, # purple\n",
    "    'lysosome': 2, # pink\n",
    "    'intracellular_matrix': 3, # red\n",
    "    'PBS': 4, # black\n",
    "    'cell_membrane': 5, # blue\n",
    "    'nanoplatform_lysosomes_1': 6, # lime\n",
    "    'nanoplatform_lysosomes_2': 7, # green\n",
    " }\n",
    "\n",
    "color_map = {\n",
    "    'yellow': np.array([255, 255, 0]), # yellow\n",
    "    'purple': np.array([128, 0, 128]), # purple\n",
    "    'pink': np.array([255, 192, 203]), # pink\n",
    "    'red': np.array([255, 0, 0]), # red\n",
    "    'black': np.array([0, 0, 0]), # black\n",
    "    'blue': np.array([0, 0, 255]), # blue\n",
    "    'lime': np.array([0, 255, 0]), # lime\n",
    "    'green': np.array([0, 128, 0]), # green\n",
    " }"
   ]
  },
  {
   "cell_type": "code",
   "execution_count": 16,
   "metadata": {
    "pycharm": {
     "name": "#%%\n"
    }
   },
   "outputs": [],
   "source": [
    "df = pd.DataFrame(data=get_color_names, columns=['color'])\n",
    "df['rgb_code'] = df['color'].map(color_map)\n",
    "df['label'] = df['color'].map({y: x for x, y in label_color_map.items()})\n",
    "df['label_code'] = df['label'].map(label_code_map)\n"
   ]
  },
  {
   "cell_type": "code",
   "execution_count": 17,
   "metadata": {
    "pycharm": {
     "name": "#%%\n"
    }
   },
   "outputs": [
    {
     "data": {
      "text/html": [
       "<div>\n",
       "<style scoped>\n",
       "    .dataframe tbody tr th:only-of-type {\n",
       "        vertical-align: middle;\n",
       "    }\n",
       "\n",
       "    .dataframe tbody tr th {\n",
       "        vertical-align: top;\n",
       "    }\n",
       "\n",
       "    .dataframe thead th {\n",
       "        text-align: right;\n",
       "    }\n",
       "</style>\n",
       "<table border=\"1\" class=\"dataframe\">\n",
       "  <thead>\n",
       "    <tr style=\"text-align: right;\">\n",
       "      <th></th>\n",
       "      <th>color</th>\n",
       "      <th>rgb_code</th>\n",
       "      <th>label</th>\n",
       "      <th>label_code</th>\n",
       "    </tr>\n",
       "  </thead>\n",
       "  <tbody>\n",
       "    <tr>\n",
       "      <th>0</th>\n",
       "      <td>blue</td>\n",
       "      <td>[0, 0, 255]</td>\n",
       "      <td>cell_membrane</td>\n",
       "      <td>5</td>\n",
       "    </tr>\n",
       "    <tr>\n",
       "      <th>1</th>\n",
       "      <td>blue</td>\n",
       "      <td>[0, 0, 255]</td>\n",
       "      <td>cell_membrane</td>\n",
       "      <td>5</td>\n",
       "    </tr>\n",
       "    <tr>\n",
       "      <th>2</th>\n",
       "      <td>blue</td>\n",
       "      <td>[0, 0, 255]</td>\n",
       "      <td>cell_membrane</td>\n",
       "      <td>5</td>\n",
       "    </tr>\n",
       "    <tr>\n",
       "      <th>3</th>\n",
       "      <td>blue</td>\n",
       "      <td>[0, 0, 255]</td>\n",
       "      <td>cell_membrane</td>\n",
       "      <td>5</td>\n",
       "    </tr>\n",
       "    <tr>\n",
       "      <th>4</th>\n",
       "      <td>blue</td>\n",
       "      <td>[0, 0, 255]</td>\n",
       "      <td>cell_membrane</td>\n",
       "      <td>5</td>\n",
       "    </tr>\n",
       "  </tbody>\n",
       "</table>\n",
       "</div>"
      ],
      "text/plain": [
       "  color     rgb_code          label  label_code\n",
       "0  blue  [0, 0, 255]  cell_membrane           5\n",
       "1  blue  [0, 0, 255]  cell_membrane           5\n",
       "2  blue  [0, 0, 255]  cell_membrane           5\n",
       "3  blue  [0, 0, 255]  cell_membrane           5\n",
       "4  blue  [0, 0, 255]  cell_membrane           5"
      ]
     },
     "execution_count": 17,
     "metadata": {},
     "output_type": "execute_result"
    }
   ],
   "source": [
    "df.head()"
   ]
  },
  {
   "cell_type": "code",
   "execution_count": 18,
   "metadata": {
    "pycharm": {
     "name": "#%%\n"
    }
   },
   "outputs": [
    {
     "data": {
      "text/html": [
       "<div>\n",
       "<style scoped>\n",
       "    .dataframe tbody tr th:only-of-type {\n",
       "        vertical-align: middle;\n",
       "    }\n",
       "\n",
       "    .dataframe tbody tr th {\n",
       "        vertical-align: top;\n",
       "    }\n",
       "\n",
       "    .dataframe thead th {\n",
       "        text-align: right;\n",
       "    }\n",
       "</style>\n",
       "<table border=\"1\" class=\"dataframe\">\n",
       "  <thead>\n",
       "    <tr style=\"text-align: right;\">\n",
       "      <th></th>\n",
       "      <th>label</th>\n",
       "      <th>label_code</th>\n",
       "      <th>color</th>\n",
       "      <th>rgb_code</th>\n",
       "    </tr>\n",
       "  </thead>\n",
       "  <tbody>\n",
       "    <tr>\n",
       "      <th>0</th>\n",
       "      <td>cell_membrane</td>\n",
       "      <td>5</td>\n",
       "      <td>blue</td>\n",
       "      <td>[0, 0, 255]</td>\n",
       "    </tr>\n",
       "    <tr>\n",
       "      <th>1</th>\n",
       "      <td>cell_membrane</td>\n",
       "      <td>5</td>\n",
       "      <td>blue</td>\n",
       "      <td>[0, 0, 255]</td>\n",
       "    </tr>\n",
       "    <tr>\n",
       "      <th>2</th>\n",
       "      <td>cell_membrane</td>\n",
       "      <td>5</td>\n",
       "      <td>blue</td>\n",
       "      <td>[0, 0, 255]</td>\n",
       "    </tr>\n",
       "    <tr>\n",
       "      <th>3</th>\n",
       "      <td>cell_membrane</td>\n",
       "      <td>5</td>\n",
       "      <td>blue</td>\n",
       "      <td>[0, 0, 255]</td>\n",
       "    </tr>\n",
       "    <tr>\n",
       "      <th>4</th>\n",
       "      <td>cell_membrane</td>\n",
       "      <td>5</td>\n",
       "      <td>blue</td>\n",
       "      <td>[0, 0, 255]</td>\n",
       "    </tr>\n",
       "    <tr>\n",
       "      <th>...</th>\n",
       "      <td>...</td>\n",
       "      <td>...</td>\n",
       "      <td>...</td>\n",
       "      <td>...</td>\n",
       "    </tr>\n",
       "    <tr>\n",
       "      <th>5620</th>\n",
       "      <td>PBS</td>\n",
       "      <td>4</td>\n",
       "      <td>black</td>\n",
       "      <td>[0, 0, 0]</td>\n",
       "    </tr>\n",
       "    <tr>\n",
       "      <th>5621</th>\n",
       "      <td>PBS</td>\n",
       "      <td>4</td>\n",
       "      <td>black</td>\n",
       "      <td>[0, 0, 0]</td>\n",
       "    </tr>\n",
       "    <tr>\n",
       "      <th>5622</th>\n",
       "      <td>PBS</td>\n",
       "      <td>4</td>\n",
       "      <td>black</td>\n",
       "      <td>[0, 0, 0]</td>\n",
       "    </tr>\n",
       "    <tr>\n",
       "      <th>5623</th>\n",
       "      <td>PBS</td>\n",
       "      <td>4</td>\n",
       "      <td>black</td>\n",
       "      <td>[0, 0, 0]</td>\n",
       "    </tr>\n",
       "    <tr>\n",
       "      <th>5624</th>\n",
       "      <td>PBS</td>\n",
       "      <td>4</td>\n",
       "      <td>black</td>\n",
       "      <td>[0, 0, 0]</td>\n",
       "    </tr>\n",
       "  </tbody>\n",
       "</table>\n",
       "<p>5625 rows × 4 columns</p>\n",
       "</div>"
      ],
      "text/plain": [
       "              label  label_code  color     rgb_code\n",
       "0     cell_membrane           5   blue  [0, 0, 255]\n",
       "1     cell_membrane           5   blue  [0, 0, 255]\n",
       "2     cell_membrane           5   blue  [0, 0, 255]\n",
       "3     cell_membrane           5   blue  [0, 0, 255]\n",
       "4     cell_membrane           5   blue  [0, 0, 255]\n",
       "...             ...         ...    ...          ...\n",
       "5620            PBS           4  black    [0, 0, 0]\n",
       "5621            PBS           4  black    [0, 0, 0]\n",
       "5622            PBS           4  black    [0, 0, 0]\n",
       "5623            PBS           4  black    [0, 0, 0]\n",
       "5624            PBS           4  black    [0, 0, 0]\n",
       "\n",
       "[5625 rows x 4 columns]"
      ]
     },
     "execution_count": 18,
     "metadata": {},
     "output_type": "execute_result"
    }
   ],
   "source": [
    "df[['label', 'label_code', 'color', 'rgb_code']].to_csv('reconstructed_images/original_3.csv', index=False)\n",
    "df[['label', 'label_code', 'color', 'rgb_code']]"
   ]
  }
 ],
 "metadata": {
  "interpreter": {
   "hash": "916dbcbb3f70747c44a77c7bcd40155683ae19c65e1c03b4aa3499c5328201f1"
  },
  "kernelspec": {
   "display_name": "Python 3.8.10 64-bit",
   "language": "python",
   "name": "python3"
  },
  "language_info": {
   "codemirror_mode": {
    "name": "ipython",
    "version": 3
   },
   "file_extension": ".py",
   "mimetype": "text/x-python",
   "name": "python",
   "nbconvert_exporter": "python",
   "pygments_lexer": "ipython3",
   "version": "3.8.10"
  },
  "orig_nbformat": 4
 },
 "nbformat": 4,
 "nbformat_minor": 2
}