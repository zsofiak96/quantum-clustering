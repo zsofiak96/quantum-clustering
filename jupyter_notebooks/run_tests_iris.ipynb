{
 "cells": [
  {
   "cell_type": "code",
   "execution_count": 2,
   "metadata": {
    "pycharm": {
     "name": "#%%\n"
    }
   },
   "outputs": [],
   "source": [
    "import numpy as np\n",
    "import pandas as pd\n",
    "from quantum_clustering import QKMeans, QFCMeans\n",
    "from qiskit import BasicAer\n",
    "from qiskit.utils import QuantumInstance, algorithm_globals\n",
    "from sklearn.cluster import KMeans\n",
    "from sklearn.datasets import load_iris\n",
    "from sklearn.model_selection import train_test_split\n",
    "from sklearn.metrics import accuracy_score, classification_report\n",
    "\n",
    "from fcmeans import FCM\n",
    "\n",
    "seed = 42\n",
    "algorithm_globals.random_seed = seed\n",
    "quantum_instance = QuantumInstance(BasicAer.get_backend('qasm_simulator'),\n",
    "                                    shots=1024,\n",
    "                                    optimization_level=1,\n",
    "                                    seed_simulator=seed,\n",
    "                                    seed_transpiler=seed)"
   ]
  },
  {
   "cell_type": "code",
   "execution_count": 3,
   "metadata": {
    "pycharm": {
     "name": "#%%\n"
    }
   },
   "outputs": [],
   "source": [
    "# Use iris data set for training and test data\n",
    "X, y = load_iris(return_X_y=True)\n",
    "num_features = 2\n",
    "X = np.asarray([x[0:num_features] for x, y_ in zip(X, y) if y_ != 2])\n",
    "y = np.asarray([y_ for x, y_ in zip(X, y) if y_ != 2])\n",
    "\n",
    "X_train, X_test, y_train, y_test = train_test_split(X, y, test_size=0.20, random_state=seed)"
   ]
  },
  {
   "cell_type": "code",
   "execution_count": 4,
   "metadata": {
    "pycharm": {
     "name": "#%%\n"
    }
   },
   "outputs": [],
   "source": [
    "# fit K-means\n",
    "kmeans = KMeans(n_clusters=3)\n",
    "kmeans.fit(X_train)\n",
    "kmeans_labels = kmeans.labels_\n",
    "\n",
    "# fit fuzzy C-means\n",
    "fcmeans = FCM(n_clusters=3)\n",
    "fcmeans.fit(X_train)\n",
    "fcmeans_labels = fcmeans.predict(X_train)\n",
    "\n",
    "# fit quantum K-means\n",
    "qkmeans = QKMeans(n_clusters=3,\n",
    "                    quantum_instance=quantum_instance\n",
    ")\n",
    "qkmeans.fit(X_train)\n",
    "qkmeans_labels = qkmeans.labels_\n",
    "\n",
    "# fit quantum fuzzy C-means\n",
    "qfcmeans = QFCMeans(n_clusters=3,\n",
    "                    quantum_instance=quantum_instance\n",
    ")\n",
    "qfcmeans.fit(X_train)\n",
    "qfcm_labels = (qfcmeans.labels_)"
   ]
  },
  {
   "cell_type": "code",
   "execution_count": 5,
   "metadata": {
    "pycharm": {
     "name": "#%%\n"
    }
   },
   "outputs": [],
   "source": [
    "# valiDATE\n",
    "kmeans_predictions = kmeans.predict(X_test)\n",
    "fcmeans_predictions = fcmeans.predict(X_test)\n",
    "qkmeans_predictions = qkmeans.predict(X_test)\n",
    "qfcmeans_predictions = qfcmeans.predict(X_test)"
   ]
  },
  {
   "cell_type": "code",
   "execution_count": 6,
   "metadata": {
    "pycharm": {
     "name": "#%%\n"
    }
   },
   "outputs": [
    {
     "data": {
      "text/plain": "    original_labels  kmeans_labels  fcmeans_labels  qkmeans_labels  \\\n0                 1              1               0               1   \n1                 1              1               0               1   \n2                 0              0               1               0   \n3                 0              0               1               0   \n4                 1              1               0               1   \n5                 0              0               1               0   \n6                 0              0               1               0   \n7                 1              1               0               1   \n8                 0              0               1               0   \n9                 1              2               2               1   \n10                0              0               1               0   \n11                0              0               1               0   \n12                1              2               2               2   \n13                0              0               1               0   \n14                1              1               0               1   \n15                0              0               1               0   \n16                1              1               0               1   \n17                1              2               2               2   \n18                0              0               1               0   \n19                0              0               1               0   \n\n    qfcm_labels  \n0             2  \n1             2  \n2             0  \n3             0  \n4             2  \n5             1  \n6             1  \n7             2  \n8             0  \n9             2  \n10            0  \n11            0  \n12            1  \n13            1  \n14            2  \n15            1  \n16            2  \n17            2  \n18            0  \n19            1  ",
      "text/html": "<div>\n<style scoped>\n    .dataframe tbody tr th:only-of-type {\n        vertical-align: middle;\n    }\n\n    .dataframe tbody tr th {\n        vertical-align: top;\n    }\n\n    .dataframe thead th {\n        text-align: right;\n    }\n</style>\n<table border=\"1\" class=\"dataframe\">\n  <thead>\n    <tr style=\"text-align: right;\">\n      <th></th>\n      <th>original_labels</th>\n      <th>kmeans_labels</th>\n      <th>fcmeans_labels</th>\n      <th>qkmeans_labels</th>\n      <th>qfcm_labels</th>\n    </tr>\n  </thead>\n  <tbody>\n    <tr>\n      <th>0</th>\n      <td>1</td>\n      <td>1</td>\n      <td>0</td>\n      <td>1</td>\n      <td>2</td>\n    </tr>\n    <tr>\n      <th>1</th>\n      <td>1</td>\n      <td>1</td>\n      <td>0</td>\n      <td>1</td>\n      <td>2</td>\n    </tr>\n    <tr>\n      <th>2</th>\n      <td>0</td>\n      <td>0</td>\n      <td>1</td>\n      <td>0</td>\n      <td>0</td>\n    </tr>\n    <tr>\n      <th>3</th>\n      <td>0</td>\n      <td>0</td>\n      <td>1</td>\n      <td>0</td>\n      <td>0</td>\n    </tr>\n    <tr>\n      <th>4</th>\n      <td>1</td>\n      <td>1</td>\n      <td>0</td>\n      <td>1</td>\n      <td>2</td>\n    </tr>\n    <tr>\n      <th>5</th>\n      <td>0</td>\n      <td>0</td>\n      <td>1</td>\n      <td>0</td>\n      <td>1</td>\n    </tr>\n    <tr>\n      <th>6</th>\n      <td>0</td>\n      <td>0</td>\n      <td>1</td>\n      <td>0</td>\n      <td>1</td>\n    </tr>\n    <tr>\n      <th>7</th>\n      <td>1</td>\n      <td>1</td>\n      <td>0</td>\n      <td>1</td>\n      <td>2</td>\n    </tr>\n    <tr>\n      <th>8</th>\n      <td>0</td>\n      <td>0</td>\n      <td>1</td>\n      <td>0</td>\n      <td>0</td>\n    </tr>\n    <tr>\n      <th>9</th>\n      <td>1</td>\n      <td>2</td>\n      <td>2</td>\n      <td>1</td>\n      <td>2</td>\n    </tr>\n    <tr>\n      <th>10</th>\n      <td>0</td>\n      <td>0</td>\n      <td>1</td>\n      <td>0</td>\n      <td>0</td>\n    </tr>\n    <tr>\n      <th>11</th>\n      <td>0</td>\n      <td>0</td>\n      <td>1</td>\n      <td>0</td>\n      <td>0</td>\n    </tr>\n    <tr>\n      <th>12</th>\n      <td>1</td>\n      <td>2</td>\n      <td>2</td>\n      <td>2</td>\n      <td>1</td>\n    </tr>\n    <tr>\n      <th>13</th>\n      <td>0</td>\n      <td>0</td>\n      <td>1</td>\n      <td>0</td>\n      <td>1</td>\n    </tr>\n    <tr>\n      <th>14</th>\n      <td>1</td>\n      <td>1</td>\n      <td>0</td>\n      <td>1</td>\n      <td>2</td>\n    </tr>\n    <tr>\n      <th>15</th>\n      <td>0</td>\n      <td>0</td>\n      <td>1</td>\n      <td>0</td>\n      <td>1</td>\n    </tr>\n    <tr>\n      <th>16</th>\n      <td>1</td>\n      <td>1</td>\n      <td>0</td>\n      <td>1</td>\n      <td>2</td>\n    </tr>\n    <tr>\n      <th>17</th>\n      <td>1</td>\n      <td>2</td>\n      <td>2</td>\n      <td>2</td>\n      <td>2</td>\n    </tr>\n    <tr>\n      <th>18</th>\n      <td>0</td>\n      <td>0</td>\n      <td>1</td>\n      <td>0</td>\n      <td>0</td>\n    </tr>\n    <tr>\n      <th>19</th>\n      <td>0</td>\n      <td>0</td>\n      <td>1</td>\n      <td>0</td>\n      <td>1</td>\n    </tr>\n  </tbody>\n</table>\n</div>"
     },
     "execution_count": 6,
     "metadata": {},
     "output_type": "execute_result"
    }
   ],
   "source": [
    "data = {\"original_labels\": y_train, \n",
    "           \"kmeans_labels\": kmeans_labels,\n",
    "           \"fcmeans_labels\": fcmeans_labels, \n",
    "           \"qkmeans_labels\": qkmeans_labels,\n",
    "           \"qfcm_labels\": qfcm_labels}\n",
    "df = pd.DataFrame(data=data)\n",
    "df.head(20)"
   ]
  },
  {
   "cell_type": "code",
   "execution_count": 7,
   "metadata": {
    "pycharm": {
     "name": "#%%\n"
    }
   },
   "outputs": [],
   "source": [
    "qfcm_labels_new = np.where(qfcm_labels == 1, 2, qfcm_labels)\n",
    "qfcm_labels_new = np.where(qfcm_labels == 2, 1, qfcm_labels_new)\n",
    "\n",
    "qfcmeans_predictions_new = np.where(qfcmeans_predictions == 1, 2, qfcmeans_predictions)\n",
    "qfcmeans_predictions_new = np.where(qfcmeans_predictions == 2, 1, qfcmeans_predictions_new)"
   ]
  },
  {
   "cell_type": "code",
   "execution_count": 8,
   "metadata": {
    "pycharm": {
     "name": "#%%\n"
    }
   },
   "outputs": [
    {
     "data": {
      "text/plain": "   original_labels  kmeans_labels  fcmeans_labels  qkmeans_labels  qfcm_labels\n0                1              1               0               1            2\n1                1              1               0               1            2\n2                0              0               1               0            0\n3                0              0               1               0            0\n4                1              1               0               1            2",
      "text/html": "<div>\n<style scoped>\n    .dataframe tbody tr th:only-of-type {\n        vertical-align: middle;\n    }\n\n    .dataframe tbody tr th {\n        vertical-align: top;\n    }\n\n    .dataframe thead th {\n        text-align: right;\n    }\n</style>\n<table border=\"1\" class=\"dataframe\">\n  <thead>\n    <tr style=\"text-align: right;\">\n      <th></th>\n      <th>original_labels</th>\n      <th>kmeans_labels</th>\n      <th>fcmeans_labels</th>\n      <th>qkmeans_labels</th>\n      <th>qfcm_labels</th>\n    </tr>\n  </thead>\n  <tbody>\n    <tr>\n      <th>0</th>\n      <td>1</td>\n      <td>1</td>\n      <td>0</td>\n      <td>1</td>\n      <td>2</td>\n    </tr>\n    <tr>\n      <th>1</th>\n      <td>1</td>\n      <td>1</td>\n      <td>0</td>\n      <td>1</td>\n      <td>2</td>\n    </tr>\n    <tr>\n      <th>2</th>\n      <td>0</td>\n      <td>0</td>\n      <td>1</td>\n      <td>0</td>\n      <td>0</td>\n    </tr>\n    <tr>\n      <th>3</th>\n      <td>0</td>\n      <td>0</td>\n      <td>1</td>\n      <td>0</td>\n      <td>0</td>\n    </tr>\n    <tr>\n      <th>4</th>\n      <td>1</td>\n      <td>1</td>\n      <td>0</td>\n      <td>1</td>\n      <td>2</td>\n    </tr>\n  </tbody>\n</table>\n</div>"
     },
     "execution_count": 8,
     "metadata": {},
     "output_type": "execute_result"
    }
   ],
   "source": [
    "data_train = {\"original_labels\": y_train, \n",
    "           \"kmeans_labels\": kmeans_labels,\n",
    "           \"fcmeans_labels\": fcmeans_labels, \n",
    "           \"qkmeans_labels\": qkmeans_labels,\n",
    "           \"qfcm_labels\": qfcm_labels_new}\n",
    "df_train = pd.DataFrame(data=data)\n",
    "df_train.head(5)"
   ]
  },
  {
   "cell_type": "code",
   "execution_count": 9,
   "metadata": {
    "pycharm": {
     "name": "#%%\n"
    }
   },
   "outputs": [
    {
     "data": {
      "text/plain": "   original_labels  kmeans_labels  fcmeans_labels  qkmeans_labels  qfcm_labels\n0                1              2               0               1            1\n1                1              1               0               1            1\n2                1              2               2               2            1\n3                0              0               1               0            0\n4                0              0               1               0            2",
      "text/html": "<div>\n<style scoped>\n    .dataframe tbody tr th:only-of-type {\n        vertical-align: middle;\n    }\n\n    .dataframe tbody tr th {\n        vertical-align: top;\n    }\n\n    .dataframe thead th {\n        text-align: right;\n    }\n</style>\n<table border=\"1\" class=\"dataframe\">\n  <thead>\n    <tr style=\"text-align: right;\">\n      <th></th>\n      <th>original_labels</th>\n      <th>kmeans_labels</th>\n      <th>fcmeans_labels</th>\n      <th>qkmeans_labels</th>\n      <th>qfcm_labels</th>\n    </tr>\n  </thead>\n  <tbody>\n    <tr>\n      <th>0</th>\n      <td>1</td>\n      <td>2</td>\n      <td>0</td>\n      <td>1</td>\n      <td>1</td>\n    </tr>\n    <tr>\n      <th>1</th>\n      <td>1</td>\n      <td>1</td>\n      <td>0</td>\n      <td>1</td>\n      <td>1</td>\n    </tr>\n    <tr>\n      <th>2</th>\n      <td>1</td>\n      <td>2</td>\n      <td>2</td>\n      <td>2</td>\n      <td>1</td>\n    </tr>\n    <tr>\n      <th>3</th>\n      <td>0</td>\n      <td>0</td>\n      <td>1</td>\n      <td>0</td>\n      <td>0</td>\n    </tr>\n    <tr>\n      <th>4</th>\n      <td>0</td>\n      <td>0</td>\n      <td>1</td>\n      <td>0</td>\n      <td>2</td>\n    </tr>\n  </tbody>\n</table>\n</div>"
     },
     "execution_count": 9,
     "metadata": {},
     "output_type": "execute_result"
    }
   ],
   "source": [
    "data_test = {\"original_labels\": y_test, \n",
    "        \"kmeans_labels\": kmeans_predictions,\n",
    "        \"fcmeans_labels\": fcmeans_predictions, \n",
    "        \"qkmeans_labels\": qkmeans_predictions,\n",
    "        \"qfcm_labels\": qfcmeans_predictions_new}\n",
    "df_test = pd.DataFrame(data=data_test)\n",
    "df_test.head(5)"
   ]
  },
  {
   "cell_type": "code",
   "execution_count": 10,
   "metadata": {
    "pycharm": {
     "name": "#%%\n"
    }
   },
   "outputs": [
    {
     "name": "stdout",
     "output_type": "stream",
     "text": [
      "K-means:  0.7375\n",
      "fuzzy C-means:  0.0\n",
      "quantum K-means:  0.775\n",
      "quantum fuzzy C-means:  0.725\n"
     ]
    }
   ],
   "source": [
    "# K-means\n",
    "print('K-means: ', accuracy_score(y_train, kmeans_labels))\n",
    "\n",
    "# fuzzy C-means\n",
    "print('fuzzy C-means: ', accuracy_score(y_train, fcmeans_labels))\n",
    "\n",
    "# quantum K-means\n",
    "print('quantum K-means: ', accuracy_score(y_train, qkmeans_labels))\n",
    "\n",
    "# quantum fuzzy C-means\n",
    "print('quantum fuzzy C-means: ', accuracy_score(y_train, qfcm_labels_new))"
   ]
  },
  {
   "cell_type": "code",
   "execution_count": 11,
   "metadata": {
    "pycharm": {
     "name": "#%%\n"
    }
   },
   "outputs": [
    {
     "name": "stdout",
     "output_type": "stream",
     "text": [
      "K-means\n",
      "              precision    recall  f1-score   support\n",
      "\n",
      "           0       1.00      0.97      0.99        38\n",
      "           1       0.96      0.60      0.74        42\n",
      "           2       0.00      0.00      0.00         0\n",
      "\n",
      "    accuracy                           0.78        80\n",
      "   macro avg       0.65      0.52      0.57        80\n",
      "weighted avg       0.98      0.78      0.85        80\n",
      "\n"
     ]
    },
    {
     "name": "stderr",
     "output_type": "stream",
     "text": [
      "/home/zsofia/Documents/quantum-computing-adjustments/venv/lib/python3.9/site-packages/sklearn/metrics/_classification.py:1327: UndefinedMetricWarning: Recall and F-score are ill-defined and being set to 0.0 in labels with no true samples. Use `zero_division` parameter to control this behavior.\n",
      "  _warn_prf(average, modifier, msg_start, len(result))\n",
      "/home/zsofia/Documents/quantum-computing-adjustments/venv/lib/python3.9/site-packages/sklearn/metrics/_classification.py:1327: UndefinedMetricWarning: Recall and F-score are ill-defined and being set to 0.0 in labels with no true samples. Use `zero_division` parameter to control this behavior.\n",
      "  _warn_prf(average, modifier, msg_start, len(result))\n",
      "/home/zsofia/Documents/quantum-computing-adjustments/venv/lib/python3.9/site-packages/sklearn/metrics/_classification.py:1327: UndefinedMetricWarning: Recall and F-score are ill-defined and being set to 0.0 in labels with no true samples. Use `zero_division` parameter to control this behavior.\n",
      "  _warn_prf(average, modifier, msg_start, len(result))\n"
     ]
    }
   ],
   "source": [
    "print('K-means')\n",
    "print(classification_report(y_train, qkmeans_labels, labels=[0, 1, 2]))"
   ]
  },
  {
   "cell_type": "code",
   "execution_count": 12,
   "metadata": {
    "pycharm": {
     "name": "#%%\n"
    }
   },
   "outputs": [
    {
     "name": "stdout",
     "output_type": "stream",
     "text": [
      "fuzzy C-means\n",
      "              precision    recall  f1-score   support\n",
      "\n",
      "           0       0.00      0.00      0.00      38.0\n",
      "           1       0.00      0.00      0.00      42.0\n",
      "           2       0.00      0.00      0.00       0.0\n",
      "\n",
      "    accuracy                           0.00      80.0\n",
      "   macro avg       0.00      0.00      0.00      80.0\n",
      "weighted avg       0.00      0.00      0.00      80.0\n",
      "\n"
     ]
    },
    {
     "name": "stderr",
     "output_type": "stream",
     "text": [
      "/home/zsofia/Documents/quantum-computing-adjustments/venv/lib/python3.9/site-packages/sklearn/metrics/_classification.py:1327: UndefinedMetricWarning: Recall and F-score are ill-defined and being set to 0.0 in labels with no true samples. Use `zero_division` parameter to control this behavior.\n",
      "  _warn_prf(average, modifier, msg_start, len(result))\n",
      "/home/zsofia/Documents/quantum-computing-adjustments/venv/lib/python3.9/site-packages/sklearn/metrics/_classification.py:1327: UndefinedMetricWarning: Recall and F-score are ill-defined and being set to 0.0 in labels with no true samples. Use `zero_division` parameter to control this behavior.\n",
      "  _warn_prf(average, modifier, msg_start, len(result))\n",
      "/home/zsofia/Documents/quantum-computing-adjustments/venv/lib/python3.9/site-packages/sklearn/metrics/_classification.py:1327: UndefinedMetricWarning: Recall and F-score are ill-defined and being set to 0.0 in labels with no true samples. Use `zero_division` parameter to control this behavior.\n",
      "  _warn_prf(average, modifier, msg_start, len(result))\n"
     ]
    }
   ],
   "source": [
    "print('fuzzy C-means')\n",
    "print(classification_report(y_train, fcmeans_labels, labels=[0, 1, 2]))"
   ]
  },
  {
   "cell_type": "code",
   "execution_count": 13,
   "metadata": {
    "pycharm": {
     "name": "#%%\n"
    }
   },
   "outputs": [
    {
     "name": "stdout",
     "output_type": "stream",
     "text": [
      "quantum K-means\n",
      "              precision    recall  f1-score   support\n",
      "\n",
      "           0       1.00      0.97      0.99        38\n",
      "           1       0.96      0.60      0.74        42\n",
      "           2       0.00      0.00      0.00         0\n",
      "\n",
      "    accuracy                           0.78        80\n",
      "   macro avg       0.65      0.52      0.57        80\n",
      "weighted avg       0.98      0.78      0.85        80\n",
      "\n"
     ]
    },
    {
     "name": "stderr",
     "output_type": "stream",
     "text": [
      "/home/zsofia/Documents/quantum-computing-adjustments/venv/lib/python3.9/site-packages/sklearn/metrics/_classification.py:1327: UndefinedMetricWarning: Recall and F-score are ill-defined and being set to 0.0 in labels with no true samples. Use `zero_division` parameter to control this behavior.\n",
      "  _warn_prf(average, modifier, msg_start, len(result))\n",
      "/home/zsofia/Documents/quantum-computing-adjustments/venv/lib/python3.9/site-packages/sklearn/metrics/_classification.py:1327: UndefinedMetricWarning: Recall and F-score are ill-defined and being set to 0.0 in labels with no true samples. Use `zero_division` parameter to control this behavior.\n",
      "  _warn_prf(average, modifier, msg_start, len(result))\n",
      "/home/zsofia/Documents/quantum-computing-adjustments/venv/lib/python3.9/site-packages/sklearn/metrics/_classification.py:1327: UndefinedMetricWarning: Recall and F-score are ill-defined and being set to 0.0 in labels with no true samples. Use `zero_division` parameter to control this behavior.\n",
      "  _warn_prf(average, modifier, msg_start, len(result))\n"
     ]
    }
   ],
   "source": [
    "print('quantum K-means')\n",
    "print(classification_report(y_train, qkmeans_labels, labels=[0, 1, 2]))"
   ]
  },
  {
   "cell_type": "code",
   "execution_count": 14,
   "metadata": {
    "pycharm": {
     "name": "#%%\n"
    }
   },
   "outputs": [
    {
     "name": "stdout",
     "output_type": "stream",
     "text": [
      "quantum fuzzy C-means\n",
      "              precision    recall  f1-score   support\n",
      "\n",
      "           0       0.84      0.55      0.67        38\n",
      "           1       1.00      0.88      0.94        42\n",
      "           2       0.00      0.00      0.00         0\n",
      "\n",
      "    accuracy                           0.73        80\n",
      "   macro avg       0.61      0.48      0.53        80\n",
      "weighted avg       0.92      0.72      0.81        80\n",
      "\n"
     ]
    },
    {
     "name": "stderr",
     "output_type": "stream",
     "text": [
      "/home/zsofia/Documents/quantum-computing-adjustments/venv/lib/python3.9/site-packages/sklearn/metrics/_classification.py:1327: UndefinedMetricWarning: Recall and F-score are ill-defined and being set to 0.0 in labels with no true samples. Use `zero_division` parameter to control this behavior.\n",
      "  _warn_prf(average, modifier, msg_start, len(result))\n",
      "/home/zsofia/Documents/quantum-computing-adjustments/venv/lib/python3.9/site-packages/sklearn/metrics/_classification.py:1327: UndefinedMetricWarning: Recall and F-score are ill-defined and being set to 0.0 in labels with no true samples. Use `zero_division` parameter to control this behavior.\n",
      "  _warn_prf(average, modifier, msg_start, len(result))\n",
      "/home/zsofia/Documents/quantum-computing-adjustments/venv/lib/python3.9/site-packages/sklearn/metrics/_classification.py:1327: UndefinedMetricWarning: Recall and F-score are ill-defined and being set to 0.0 in labels with no true samples. Use `zero_division` parameter to control this behavior.\n",
      "  _warn_prf(average, modifier, msg_start, len(result))\n"
     ]
    }
   ],
   "source": [
    "print('quantum fuzzy C-means')\n",
    "print(classification_report(y_train, qfcm_labels_new, labels=[0, 1, 2]))"
   ]
  },
  {
   "cell_type": "code",
   "execution_count": 15,
   "outputs": [
    {
     "name": "stdout",
     "output_type": "stream",
     "text": [
      "K-means:  0.75\n",
      "fuzzy C-means:  0.0\n",
      "quantum K-means:  0.8\n",
      "quantum fuzzy C-means:  0.55\n"
     ]
    }
   ],
   "source": [
    "# K-means\n",
    "print('K-means: ', accuracy_score(y_test, kmeans_predictions))\n",
    "\n",
    "# fuzzy C-means\n",
    "print('fuzzy C-means: ', accuracy_score(y_test, fcmeans_predictions))\n",
    "\n",
    "# quantum K-means\n",
    "print('quantum K-means: ', accuracy_score(y_test, qkmeans_predictions))\n",
    "\n",
    "# quantum fuzzy C-means\n",
    "print('quantum fuzzy C-means: ', accuracy_score(y_test, qfcmeans_predictions_new))"
   ],
   "metadata": {
    "collapsed": false,
    "pycharm": {
     "name": "#%%\n"
    }
   }
  },
  {
   "cell_type": "code",
   "execution_count": null,
   "outputs": [],
   "source": [],
   "metadata": {
    "collapsed": false,
    "pycharm": {
     "name": "#%%\n"
    }
   }
  }
 ],
 "metadata": {
  "interpreter": {
   "hash": "5748aa8d8081968739a743df91ce44ad03fc23bb82760fcd4bbf4a585108ec0d"
  },
  "kernelspec": {
   "display_name": "Python 3.8.6rc1 ('.venv': venv)",
   "language": "python",
   "name": "python3"
  },
  "language_info": {
   "codemirror_mode": {
    "name": "ipython",
    "version": 3
   },
   "file_extension": ".py",
   "mimetype": "text/x-python",
   "name": "python",
   "nbconvert_exporter": "python",
   "pygments_lexer": "ipython3",
   "version": "3.8.10"
  },
  "orig_nbformat": 4
 },
 "nbformat": 4,
 "nbformat_minor": 2
}