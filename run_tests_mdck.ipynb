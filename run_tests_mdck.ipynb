{
 "cells": [
  {
   "cell_type": "code",
   "execution_count": 1,
   "metadata": {},
   "outputs": [],
   "source": [
    "import numpy as np\n",
    "import pandas as pd\n",
    "from sklearn.model_selection import train_test_split\n",
    "from sklearn.metrics import accuracy_score, classification_report"
   ]
  },
  {
   "cell_type": "code",
   "execution_count": 2,
   "metadata": {},
   "outputs": [
    {
     "data": {
      "text/html": [
       "<div>\n",
       "<style scoped>\n",
       "    .dataframe tbody tr th:only-of-type {\n",
       "        vertical-align: middle;\n",
       "    }\n",
       "\n",
       "    .dataframe tbody tr th {\n",
       "        vertical-align: top;\n",
       "    }\n",
       "\n",
       "    .dataframe thead th {\n",
       "        text-align: right;\n",
       "    }\n",
       "</style>\n",
       "<table border=\"1\" class=\"dataframe\">\n",
       "  <thead>\n",
       "    <tr style=\"text-align: right;\">\n",
       "      <th></th>\n",
       "      <th>kmeans</th>\n",
       "      <th>fcm</th>\n",
       "      <th>fcm_membership</th>\n",
       "      <th>qkmeans</th>\n",
       "      <th>qfcm</th>\n",
       "      <th>qfcm_membership</th>\n",
       "    </tr>\n",
       "  </thead>\n",
       "  <tbody>\n",
       "    <tr>\n",
       "      <th>0</th>\n",
       "      <td>0</td>\n",
       "      <td>0</td>\n",
       "      <td>0.452755</td>\n",
       "      <td>0</td>\n",
       "      <td>0</td>\n",
       "      <td>0.935717</td>\n",
       "    </tr>\n",
       "    <tr>\n",
       "      <th>1</th>\n",
       "      <td>0</td>\n",
       "      <td>0</td>\n",
       "      <td>0.449952</td>\n",
       "      <td>0</td>\n",
       "      <td>0</td>\n",
       "      <td>0.961499</td>\n",
       "    </tr>\n",
       "    <tr>\n",
       "      <th>2</th>\n",
       "      <td>0</td>\n",
       "      <td>0</td>\n",
       "      <td>0.457555</td>\n",
       "      <td>0</td>\n",
       "      <td>0</td>\n",
       "      <td>0.959213</td>\n",
       "    </tr>\n",
       "    <tr>\n",
       "      <th>3</th>\n",
       "      <td>0</td>\n",
       "      <td>0</td>\n",
       "      <td>0.461743</td>\n",
       "      <td>0</td>\n",
       "      <td>0</td>\n",
       "      <td>0.959989</td>\n",
       "    </tr>\n",
       "    <tr>\n",
       "      <th>4</th>\n",
       "      <td>0</td>\n",
       "      <td>0</td>\n",
       "      <td>0.457114</td>\n",
       "      <td>0</td>\n",
       "      <td>0</td>\n",
       "      <td>0.872008</td>\n",
       "    </tr>\n",
       "  </tbody>\n",
       "</table>\n",
       "</div>"
      ],
      "text/plain": [
       "   kmeans  fcm  fcm_membership  qkmeans  qfcm  qfcm_membership\n",
       "0       0    0        0.452755        0     0         0.935717\n",
       "1       0    0        0.449952        0     0         0.961499\n",
       "2       0    0        0.457555        0     0         0.959213\n",
       "3       0    0        0.461743        0     0         0.959989\n",
       "4       0    0        0.457114        0     0         0.872008"
      ]
     },
     "execution_count": 2,
     "metadata": {},
     "output_type": "execute_result"
    }
   ],
   "source": [
    "df = pd.read_csv(\"reconstructed_images/adjusted_final_labels.csv\")\n",
    "df.head()"
   ]
  },
  {
   "cell_type": "code",
   "execution_count": 4,
   "metadata": {},
   "outputs": [
    {
     "name": "stdout",
     "output_type": "stream",
     "text": [
      "K-means:  1.0\n",
      "fuzzy C-means:  0.5543\n",
      "quantum K-means:  0.3007\n",
      "quantum fuzzy C-means:  0.3301\n"
     ]
    }
   ],
   "source": [
    "# K-means\n",
    "print('K-means: ', accuracy_score(df.original, df.kmeans))\n",
    "\n",
    "# fuzzy C-means\n",
    "print('fuzzy C-means: ', accuracy_score(df.original, df.fcm))\n",
    "\n",
    "# quantum K-means\n",
    "print('quantum K-means: ', accuracy_score(df.original, df.qkmeans))\n",
    "\n",
    "# quantum fuzzy C-means\n",
    "print('quantum fuzzy C-means: ', accuracy_score(df.original, df.qfcm))"
   ]
  },
  {
   "cell_type": "code",
   "execution_count": 14,
   "metadata": {},
   "outputs": [
    {
     "name": "stdout",
     "output_type": "stream",
     "text": [
      "K-means\n",
      "              precision    recall  f1-score   support\n",
      "\n",
      "           0       1.00      1.00      1.00      4416\n",
      "           1       1.00      1.00      1.00         1\n",
      "           2       1.00      1.00      1.00      3895\n",
      "           3       1.00      1.00      1.00      1687\n",
      "           4       1.00      1.00      1.00         1\n",
      "\n",
      "    accuracy                           1.00     10000\n",
      "   macro avg       1.00      1.00      1.00     10000\n",
      "weighted avg       1.00      1.00      1.00     10000\n",
      "\n"
     ]
    }
   ],
   "source": [
    "print('K-means')\n",
    "print(classification_report(df.original, df.kmeans, labels=[0, 1, 2, 3, 4]))"
   ]
  },
  {
   "cell_type": "code",
   "execution_count": 16,
   "metadata": {},
   "outputs": [
    {
     "name": "stdout",
     "output_type": "stream",
     "text": [
      "fuzzy C-means\n",
      "              precision    recall  f1-score   support\n",
      "\n",
      "           0       0.81      0.70      0.75      4416\n",
      "           1       0.00      0.00      0.00         1\n",
      "           2       0.81      0.59      0.68      3895\n",
      "           3       0.08      0.09      0.08      1687\n",
      "           4       0.00      1.00      0.00         1\n",
      "\n",
      "    accuracy                           0.55     10000\n",
      "   macro avg       0.34      0.48      0.30     10000\n",
      "weighted avg       0.69      0.55      0.61     10000\n",
      "\n"
     ]
    },
    {
     "name": "stderr",
     "output_type": "stream",
     "text": [
      "/home/zsofia/.local/lib/python3.8/site-packages/sklearn/metrics/_classification.py:1318: UndefinedMetricWarning: Precision and F-score are ill-defined and being set to 0.0 in labels with no predicted samples. Use `zero_division` parameter to control this behavior.\n",
      "  _warn_prf(average, modifier, msg_start, len(result))\n",
      "/home/zsofia/.local/lib/python3.8/site-packages/sklearn/metrics/_classification.py:1318: UndefinedMetricWarning: Precision and F-score are ill-defined and being set to 0.0 in labels with no predicted samples. Use `zero_division` parameter to control this behavior.\n",
      "  _warn_prf(average, modifier, msg_start, len(result))\n",
      "/home/zsofia/.local/lib/python3.8/site-packages/sklearn/metrics/_classification.py:1318: UndefinedMetricWarning: Precision and F-score are ill-defined and being set to 0.0 in labels with no predicted samples. Use `zero_division` parameter to control this behavior.\n",
      "  _warn_prf(average, modifier, msg_start, len(result))\n"
     ]
    }
   ],
   "source": [
    "print('fuzzy C-means')\n",
    "print(classification_report(df.original, df.fcm, labels=[0, 1, 2, 3, 4]))"
   ]
  },
  {
   "cell_type": "code",
   "execution_count": 11,
   "metadata": {},
   "outputs": [
    {
     "name": "stdout",
     "output_type": "stream",
     "text": [
      "quantum K-means\n",
      "              precision    recall  f1-score   support\n",
      "\n",
      "           0       0.34      0.31      0.32      4416\n",
      "           1       0.00      1.00      0.00         1\n",
      "           2       0.68      0.39      0.49      3895\n",
      "           3       0.19      0.07      0.10      1687\n",
      "           4       0.00      1.00      0.00         1\n",
      "\n",
      "    accuracy                           0.30     10000\n",
      "   macro avg       0.24      0.55      0.19     10000\n",
      "weighted avg       0.44      0.30      0.35     10000\n",
      "\n"
     ]
    }
   ],
   "source": [
    "print('quantum K-means')\n",
    "print(classification_report(df.original, df.qkmeans, labels=[0, 1, 2, 3, 4]))"
   ]
  },
  {
   "cell_type": "code",
   "execution_count": 13,
   "metadata": {},
   "outputs": [
    {
     "name": "stdout",
     "output_type": "stream",
     "text": [
      "quantum fuzzy C-means\n",
      "              precision    recall  f1-score   support\n",
      "\n",
      "           0       0.36      0.31      0.34      4416\n",
      "           1       0.00      1.00      0.00         1\n",
      "           2       0.69      0.47      0.56      3895\n",
      "           3       0.19      0.05      0.08      1687\n",
      "           4       0.00      0.00      0.00         1\n",
      "\n",
      "    accuracy                           0.33     10000\n",
      "   macro avg       0.25      0.37      0.20     10000\n",
      "weighted avg       0.46      0.33      0.38     10000\n",
      "\n"
     ]
    }
   ],
   "source": [
    "print('quantum fuzzy C-means')\n",
    "print(classification_report(df.original, df.qfcm, labels=[0, 1, 2, 3, 4]))"
   ]
  }
 ],
 "metadata": {
  "interpreter": {
   "hash": "5748aa8d8081968739a743df91ce44ad03fc23bb82760fcd4bbf4a585108ec0d"
  },
  "kernelspec": {
   "display_name": "Python 3.8.6rc1 ('.venv': venv)",
   "language": "python",
   "name": "python3"
  },
  "language_info": {
   "codemirror_mode": {
    "name": "ipython",
    "version": 3
   },
   "file_extension": ".py",
   "mimetype": "text/x-python",
   "name": "python",
   "nbconvert_exporter": "python",
   "pygments_lexer": "ipython3",
   "version": "3.8.10"
  },
  "orig_nbformat": 4
 },
 "nbformat": 4,
 "nbformat_minor": 2
}
