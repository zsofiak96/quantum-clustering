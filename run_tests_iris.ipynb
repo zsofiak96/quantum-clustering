{
 "cells": [
  {
   "cell_type": "code",
   "execution_count": 100,
   "metadata": {},
   "outputs": [],
   "source": [
    "import numpy as np\n",
    "import pandas as pd\n",
    "import matplotlib.pyplot as plt\n",
    "from quantum_clustering import QKMeans, QFCMeans\n",
    "from qiskit import BasicAer\n",
    "from qiskit.utils import QuantumInstance, algorithm_globals\n",
    "from sklearn.cluster import KMeans\n",
    "from sklearn.datasets import load_iris\n",
    "from sklearn.model_selection import train_test_split\n",
    "from sklearn.metrics import confusion_matrix\n",
    "from fcmeans import FCM\n",
    "\n",
    "seed = 42\n",
    "algorithm_globals.random_seed = seed\n",
    "quantum_instance = QuantumInstance(BasicAer.get_backend('qasm_simulator'),\n",
    "                                    shots=1024,\n",
    "                                    optimization_level=1,\n",
    "                                    seed_simulator=seed,\n",
    "                                    seed_transpiler=seed)"
   ]
  },
  {
   "cell_type": "code",
   "execution_count": 6,
   "metadata": {},
   "outputs": [],
   "source": [
    "# Use iris data set for training and test data\n",
    "X, y = load_iris(return_X_y=True)\n",
    "num_features = 2\n",
    "X = np.asarray([x[0:num_features] for x, y_ in zip(X, y) if y_ != 2])\n",
    "y = np.asarray([y_ for x, y_ in zip(X, y) if y_ != 2])\n",
    "\n",
    "X_train, X_test, y_train, y_test = train_test_split(X, y, test_size=0.20, random_state=seed)"
   ]
  },
  {
   "cell_type": "code",
   "execution_count": 26,
   "metadata": {},
   "outputs": [
    {
     "name": "stdout",
     "output_type": "stream",
     "text": [
      "[1 1 0 0 1 0 0 1 0 2 0 0 2 0 1 0 1 2 0 0 0 0 0 1 0 0 1 0 1 0 0 0 0 0 0 2 0\n",
      " 1 0 1 2 1 2 0 2 1 0 2 2 2 1 1 2 0 1 1 2 0 1 1 2 1 0 0 0 2 0 0 0 2 2 2 2 1\n",
      " 0 1 2 0 1 2]\n",
      "[[4.98648649 3.43243243]\n",
      " [5.47826087 2.63043478]\n",
      " [6.365      2.925     ]]\n"
     ]
    }
   ],
   "source": [
    "kmeans = KMeans(n_clusters=3)\n",
    "\n",
    "kmeans.fit(X_train)\n",
    "\n",
    "kmeans_labels = kmeans.labels_\n",
    "\n",
    "print(kmeans.labels_)\n",
    "print(kmeans.cluster_centers_)"
   ]
  },
  {
   "cell_type": "code",
   "execution_count": 27,
   "metadata": {},
   "outputs": [
    {
     "name": "stdout",
     "output_type": "stream",
     "text": [
      "[1 1 0 2 1 0 0 1 2 1 0 2 1 0 2 0 1 1 2 0 0 2 0 1 0 0 1 2 1 2 0 2 0 2 2 1 2\n",
      " 1 0 1 1 1 1 0 1 1 0 1 1 1 1 2 1 0 2 2 1 0 1 2 1 2 0 2 2 1 0 2 0 1 1 1 1 1\n",
      " 0 2 1 0 1 1]\n",
      "[[5.19905688 3.54930435]\n",
      " [6.13523076 2.84530897]\n",
      " [4.8405776  2.96743535]]\n"
     ]
    }
   ],
   "source": [
    "fcmeans = FCM(n_clusters=3)\n",
    "\n",
    "fcmeans.fit(X_train)\n",
    "\n",
    "fcmeans_labels = fcmeans.predict(X_train)\n",
    "\n",
    "print(fcmeans.predict(X_train))\n",
    "print(fcmeans.centers)"
   ]
  },
  {
   "cell_type": "code",
   "execution_count": 28,
   "metadata": {},
   "outputs": [
    {
     "name": "stdout",
     "output_type": "stream",
     "text": [
      "[1 1 0 0 1 0 0 1 0 1 0 0 2 0 1 0 1 2 0 0 0 0 0 1 0 0 1 0 1 0 0 0 0 0 0 2 0\n",
      " 1 0 1 2 1 2 0 2 1 0 1 2 2 1 1 2 0 1 1 2 0 1 1 2 1 0 0 0 2 0 0 0 1 2 2 2 1\n",
      " 0 1 2 0 1 2]\n",
      "[[4.98648649 3.43243243]\n",
      " [5.56923077 2.59615385]\n",
      " [6.38235294 3.02941176]]\n"
     ]
    }
   ],
   "source": [
    "qkmeans = QKMeans(n_clusters=3,\n",
    "                    quantum_instance=quantum_instance\n",
    ")\n",
    "\n",
    "qkmeans.fit(X_train)\n",
    "\n",
    "qkmeans_labels = qkmeans.labels_\n",
    "\n",
    "print(qkmeans.labels_)\n",
    "print(qkmeans.cluster_centers_)"
   ]
  },
  {
   "cell_type": "code",
   "execution_count": 4,
   "metadata": {},
   "outputs": [
    {
     "data": {
      "image/png": "[encoded data removed]",
      "text/plain": [
       "<Figure size 432x288 with 1 Axes>"
      ]
     },
     "metadata": {
      "needs_background": "light"
     },
     "output_type": "display_data"
    }
   ],
   "source": [
    "# Plot the results\n",
    "colors = ['blue', 'orange', 'green']\n",
    "for i in range(X_train.shape[0]):\n",
    "    plt.scatter(X_train[i, 0], X_train[i, 1], color=colors[qkmeans.labels_[i]])\n",
    "plt.scatter(qkmeans.cluster_centers_[:, 0], qkmeans.cluster_centers_[:, 1], marker='*', c='r', s=150)\n",
    "plt.show()\n",
    "# Predict new points\n",
    "prediction = qkmeans.predict(X_test)"
   ]
  },
  {
   "cell_type": "code",
   "execution_count": 124,
   "metadata": {},
   "outputs": [
    {
     "name": "stdout",
     "output_type": "stream",
     "text": [
      "[2 2 0 0 2 1 1 2 0 2 0 0 1 1 2 1 2 2 0 1 0 0 0 2 1 1 2 0 2 0 0 0 1 0 0 2 0\n",
      " 2 1 2 2 2 2 1 2 2 1 2 2 2 2 0 2 1 0 0 2 1 2 0 2 0 1 0 0 2 1 0 0 2 2 2 2 2\n",
      " 1 2 2 1 2 2]\n",
      "[[4.77048691 3.1028955 ]\n",
      " [5.32419119 3.62357217]\n",
      " [5.94585812 2.74972567]]\n"
     ]
    }
   ],
   "source": [
    "qfcmeans = QFCMeans(n_clusters=3,\n",
    "                    quantum_instance=quantum_instance\n",
    ")\n",
    "\n",
    "qfcmeans.fit(X_train)\n",
    "\n",
    "qfcm_labels = (qfcmeans.labels_)\n",
    "\n",
    "print(qfcmeans.labels_)\n",
    "print(qfcmeans.cluster_centers_)"
   ]
  },
  {
   "cell_type": "code",
   "execution_count": 9,
   "metadata": {},
   "outputs": [
    {
     "data": {
      "image/png": "[encoded data removed]",
      "text/plain": [
       "<Figure size 432x288 with 1 Axes>"
      ]
     },
     "metadata": {
      "needs_background": "light"
     },
     "output_type": "display_data"
    }
   ],
   "source": [
    "# Plot the results\n",
    "colors = ['blue', 'orange', 'green']\n",
    "for i in range(X_train.shape[0]):\n",
    "    plt.scatter(X_train[i, 0], X_train[i, 1], color=colors[qfcmeans.labels_[i]])\n",
    "plt.scatter(qfcmeans.cluster_centers_[:, 0], qfcmeans.cluster_centers_[:, 1], marker='*', c='r', s=150)\n",
    "plt.show()\n",
    "# Predict new points\n",
    "prediction = qfcmeans.predict(X_test)"
   ]
  },
  {
   "cell_type": "code",
   "execution_count": 96,
   "metadata": {},
   "outputs": [],
   "source": [
    "del qfcm_labels_new"
   ]
  },
  {
   "cell_type": "code",
   "execution_count": 131,
   "metadata": {},
   "outputs": [
    {
     "data": {
      "text/plain": [
       "(array([1, 1, 0, 0, 1, 2, 2, 1, 0, 1, 0, 0, 2, 2, 1, 2, 1, 1, 0, 2, 0, 0,\n",
       "        0, 1, 2, 2, 1, 0, 1, 0, 0, 0, 2, 0, 0, 1, 0, 1, 2, 1, 1, 1, 1, 2,\n",
       "        1, 1, 2, 1, 1, 1, 1, 0, 1, 2, 0, 0, 1, 2, 1, 0, 1, 0, 2, 0, 0, 1,\n",
       "        2, 0, 0, 1, 1, 1, 1, 1, 2, 1, 1, 2, 1, 1], dtype=int64),\n",
       " array([2, 2, 0, 0, 2, 1, 1, 2, 0, 2, 0, 0, 1, 1, 2, 1, 2, 2, 0, 1, 0, 0,\n",
       "        0, 2, 1, 1, 2, 0, 2, 0, 0, 0, 1, 0, 0, 2, 0, 2, 1, 2, 2, 2, 2, 1,\n",
       "        2, 2, 1, 2, 2, 2, 2, 0, 2, 1, 0, 0, 2, 1, 2, 0, 2, 0, 1, 0, 0, 2,\n",
       "        1, 0, 0, 2, 2, 2, 2, 2, 1, 2, 2, 1, 2, 2], dtype=int64))"
      ]
     },
     "execution_count": 131,
     "metadata": {},
     "output_type": "execute_result"
    }
   ],
   "source": [
    "qfcm_labels_new = np.where(qfcm_labels == 1, 2, qfcm_labels)\n",
    "qfcm_labels_new = np.where(qfcm_labels == 2, 1, qfcm_labels_new)\n",
    "\n",
    "qfcm_labels_new, qfcm_labels"
   ]
  },
  {
   "cell_type": "code",
   "execution_count": 132,
   "metadata": {},
   "outputs": [
    {
     "data": {
      "text/html": [
       "<div>\n",
       "<style scoped>\n",
       "    .dataframe tbody tr th:only-of-type {\n",
       "        vertical-align: middle;\n",
       "    }\n",
       "\n",
       "    .dataframe tbody tr th {\n",
       "        vertical-align: top;\n",
       "    }\n",
       "\n",
       "    .dataframe thead th {\n",
       "        text-align: right;\n",
       "    }\n",
       "</style>\n",
       "<table border=\"1\" class=\"dataframe\">\n",
       "  <thead>\n",
       "    <tr style=\"text-align: right;\">\n",
       "      <th></th>\n",
       "      <th>original_labels</th>\n",
       "      <th>kmeans_labels</th>\n",
       "      <th>fcmeans_labels</th>\n",
       "      <th>qkmeans_labels</th>\n",
       "      <th>qfcm_labels</th>\n",
       "    </tr>\n",
       "  </thead>\n",
       "  <tbody>\n",
       "    <tr>\n",
       "      <th>0</th>\n",
       "      <td>1</td>\n",
       "      <td>1</td>\n",
       "      <td>1</td>\n",
       "      <td>1</td>\n",
       "      <td>1</td>\n",
       "    </tr>\n",
       "    <tr>\n",
       "      <th>1</th>\n",
       "      <td>1</td>\n",
       "      <td>1</td>\n",
       "      <td>1</td>\n",
       "      <td>1</td>\n",
       "      <td>1</td>\n",
       "    </tr>\n",
       "    <tr>\n",
       "      <th>2</th>\n",
       "      <td>0</td>\n",
       "      <td>0</td>\n",
       "      <td>0</td>\n",
       "      <td>0</td>\n",
       "      <td>0</td>\n",
       "    </tr>\n",
       "    <tr>\n",
       "      <th>3</th>\n",
       "      <td>0</td>\n",
       "      <td>0</td>\n",
       "      <td>2</td>\n",
       "      <td>0</td>\n",
       "      <td>0</td>\n",
       "    </tr>\n",
       "    <tr>\n",
       "      <th>4</th>\n",
       "      <td>1</td>\n",
       "      <td>1</td>\n",
       "      <td>1</td>\n",
       "      <td>1</td>\n",
       "      <td>1</td>\n",
       "    </tr>\n",
       "    <tr>\n",
       "      <th>5</th>\n",
       "      <td>0</td>\n",
       "      <td>0</td>\n",
       "      <td>0</td>\n",
       "      <td>0</td>\n",
       "      <td>2</td>\n",
       "    </tr>\n",
       "    <tr>\n",
       "      <th>6</th>\n",
       "      <td>0</td>\n",
       "      <td>0</td>\n",
       "      <td>0</td>\n",
       "      <td>0</td>\n",
       "      <td>2</td>\n",
       "    </tr>\n",
       "    <tr>\n",
       "      <th>7</th>\n",
       "      <td>1</td>\n",
       "      <td>1</td>\n",
       "      <td>1</td>\n",
       "      <td>1</td>\n",
       "      <td>1</td>\n",
       "    </tr>\n",
       "    <tr>\n",
       "      <th>8</th>\n",
       "      <td>0</td>\n",
       "      <td>0</td>\n",
       "      <td>2</td>\n",
       "      <td>0</td>\n",
       "      <td>0</td>\n",
       "    </tr>\n",
       "    <tr>\n",
       "      <th>9</th>\n",
       "      <td>1</td>\n",
       "      <td>2</td>\n",
       "      <td>1</td>\n",
       "      <td>1</td>\n",
       "      <td>1</td>\n",
       "    </tr>\n",
       "    <tr>\n",
       "      <th>10</th>\n",
       "      <td>0</td>\n",
       "      <td>0</td>\n",
       "      <td>0</td>\n",
       "      <td>0</td>\n",
       "      <td>0</td>\n",
       "    </tr>\n",
       "    <tr>\n",
       "      <th>11</th>\n",
       "      <td>0</td>\n",
       "      <td>0</td>\n",
       "      <td>2</td>\n",
       "      <td>0</td>\n",
       "      <td>0</td>\n",
       "    </tr>\n",
       "    <tr>\n",
       "      <th>12</th>\n",
       "      <td>1</td>\n",
       "      <td>2</td>\n",
       "      <td>1</td>\n",
       "      <td>2</td>\n",
       "      <td>2</td>\n",
       "    </tr>\n",
       "    <tr>\n",
       "      <th>13</th>\n",
       "      <td>0</td>\n",
       "      <td>0</td>\n",
       "      <td>0</td>\n",
       "      <td>0</td>\n",
       "      <td>2</td>\n",
       "    </tr>\n",
       "    <tr>\n",
       "      <th>14</th>\n",
       "      <td>1</td>\n",
       "      <td>1</td>\n",
       "      <td>2</td>\n",
       "      <td>1</td>\n",
       "      <td>1</td>\n",
       "    </tr>\n",
       "    <tr>\n",
       "      <th>15</th>\n",
       "      <td>0</td>\n",
       "      <td>0</td>\n",
       "      <td>0</td>\n",
       "      <td>0</td>\n",
       "      <td>2</td>\n",
       "    </tr>\n",
       "    <tr>\n",
       "      <th>16</th>\n",
       "      <td>1</td>\n",
       "      <td>1</td>\n",
       "      <td>1</td>\n",
       "      <td>1</td>\n",
       "      <td>1</td>\n",
       "    </tr>\n",
       "    <tr>\n",
       "      <th>17</th>\n",
       "      <td>1</td>\n",
       "      <td>2</td>\n",
       "      <td>1</td>\n",
       "      <td>2</td>\n",
       "      <td>1</td>\n",
       "    </tr>\n",
       "    <tr>\n",
       "      <th>18</th>\n",
       "      <td>0</td>\n",
       "      <td>0</td>\n",
       "      <td>2</td>\n",
       "      <td>0</td>\n",
       "      <td>0</td>\n",
       "    </tr>\n",
       "    <tr>\n",
       "      <th>19</th>\n",
       "      <td>0</td>\n",
       "      <td>0</td>\n",
       "      <td>0</td>\n",
       "      <td>0</td>\n",
       "      <td>2</td>\n",
       "    </tr>\n",
       "  </tbody>\n",
       "</table>\n",
       "</div>"
      ],
      "text/plain": [
       "    original_labels  kmeans_labels  fcmeans_labels  qkmeans_labels  \\\n",
       "0                 1              1               1               1   \n",
       "1                 1              1               1               1   \n",
       "2                 0              0               0               0   \n",
       "3                 0              0               2               0   \n",
       "4                 1              1               1               1   \n",
       "5                 0              0               0               0   \n",
       "6                 0              0               0               0   \n",
       "7                 1              1               1               1   \n",
       "8                 0              0               2               0   \n",
       "9                 1              2               1               1   \n",
       "10                0              0               0               0   \n",
       "11                0              0               2               0   \n",
       "12                1              2               1               2   \n",
       "13                0              0               0               0   \n",
       "14                1              1               2               1   \n",
       "15                0              0               0               0   \n",
       "16                1              1               1               1   \n",
       "17                1              2               1               2   \n",
       "18                0              0               2               0   \n",
       "19                0              0               0               0   \n",
       "\n",
       "    qfcm_labels  \n",
       "0             1  \n",
       "1             1  \n",
       "2             0  \n",
       "3             0  \n",
       "4             1  \n",
       "5             2  \n",
       "6             2  \n",
       "7             1  \n",
       "8             0  \n",
       "9             1  \n",
       "10            0  \n",
       "11            0  \n",
       "12            2  \n",
       "13            2  \n",
       "14            1  \n",
       "15            2  \n",
       "16            1  \n",
       "17            1  \n",
       "18            0  \n",
       "19            2  "
      ]
     },
     "execution_count": 132,
     "metadata": {},
     "output_type": "execute_result"
    }
   ],
   "source": [
    "data = {\"original_labels\": y_train, \n",
    "           \"kmeans_labels\": kmeans_labels,\n",
    "           \"fcmeans_labels\": fcmeans_labels, \n",
    "           \"qkmeans_labels\": qkmeans_labels,\n",
    "           \"qfcm_labels\": qfcm_labels_new}\n",
    "df = pd.DataFrame(data=data)\n",
    "df.head(20)"
   ]
  },
  {
   "cell_type": "code",
   "execution_count": 133,
   "metadata": {},
   "outputs": [
    {
     "data": {
      "text/plain": [
       "0.7375"
      ]
     },
     "execution_count": 133,
     "metadata": {},
     "output_type": "execute_result"
    }
   ],
   "source": [
    "# Kmeans Precision\n",
    "df[df.original_labels==df.kmeans_labels].__len__() / df.shape[0]"
   ]
  },
  {
   "cell_type": "code",
   "execution_count": 134,
   "metadata": {},
   "outputs": [
    {
     "data": {
      "text/plain": [
       "0.7375"
      ]
     },
     "execution_count": 134,
     "metadata": {},
     "output_type": "execute_result"
    }
   ],
   "source": [
    "# fuzzy C-means Precision\n",
    "df[df.original_labels==df.fcmeans_labels].__len__() / df.shape[0]"
   ]
  },
  {
   "cell_type": "code",
   "execution_count": 135,
   "metadata": {},
   "outputs": [
    {
     "data": {
      "text/plain": [
       "0.775"
      ]
     },
     "execution_count": 135,
     "metadata": {},
     "output_type": "execute_result"
    }
   ],
   "source": [
    "# quantum K-means Precision\n",
    "df[df.original_labels==df.qkmeans_labels].__len__() / df.shape[0]"
   ]
  },
  {
   "cell_type": "code",
   "execution_count": 136,
   "metadata": {},
   "outputs": [
    {
     "data": {
      "text/plain": [
       "0.725"
      ]
     },
     "execution_count": 136,
     "metadata": {},
     "output_type": "execute_result"
    }
   ],
   "source": [
    "# quantum fuzzy C-means Precision\n",
    "df[df.original_labels==df.qfcm_labels].__len__() / df.shape[0]"
   ]
  },
  {
   "cell_type": "code",
   "execution_count": 83,
   "metadata": {},
   "outputs": [],
   "source": [
    "# valiDATE\n",
    "kmeans_predictions = kmeans.predict(X_test)\n",
    "fcmeans_predictions = fcmeans.predict(X_test)\n",
    "qkmeans_predictions = qkmeans.predict(X_test)\n",
    "qfcmeans_predictions = qfcmeans.predict(X_test)"
   ]
  },
  {
   "cell_type": "code",
   "execution_count": 127,
   "metadata": {},
   "outputs": [
    {
     "data": {
      "text/plain": [
       "(array([1, 1, 1, 0, 2, 2, 2, 1, 2, 2, 2, 0, 1, 2, 1, 2, 1, 1, 0, 2],\n",
       "       dtype=int64),\n",
       " array([2, 2, 2, 0, 1, 1, 1, 2, 1, 1, 1, 0, 2, 1, 2, 1, 2, 2, 0, 1],\n",
       "       dtype=int64))"
      ]
     },
     "execution_count": 127,
     "metadata": {},
     "output_type": "execute_result"
    }
   ],
   "source": [
    "qfcm_predictions_new = np.where(qfcmeans_predictions == 1, 2, qfcmeans_predictions)\n",
    "qfcm_predictions_new = np.where(qfcmeans_predictions == 2, 1, qfcm_predictions_new)\n",
    "qfcm_predictions_new, qfcmeans_predictions"
   ]
  },
  {
   "cell_type": "code",
   "execution_count": 85,
   "metadata": {},
   "outputs": [
    {
     "data": {
      "text/html": [
       "<div>\n",
       "<style scoped>\n",
       "    .dataframe tbody tr th:only-of-type {\n",
       "        vertical-align: middle;\n",
       "    }\n",
       "\n",
       "    .dataframe tbody tr th {\n",
       "        vertical-align: top;\n",
       "    }\n",
       "\n",
       "    .dataframe thead th {\n",
       "        text-align: right;\n",
       "    }\n",
       "</style>\n",
       "<table border=\"1\" class=\"dataframe\">\n",
       "  <thead>\n",
       "    <tr style=\"text-align: right;\">\n",
       "      <th></th>\n",
       "      <th>original_labels</th>\n",
       "      <th>kmeans_labels</th>\n",
       "      <th>fcmeans_labels</th>\n",
       "      <th>qkmeans_labels</th>\n",
       "      <th>qfcm_labels</th>\n",
       "    </tr>\n",
       "  </thead>\n",
       "  <tbody>\n",
       "    <tr>\n",
       "      <th>0</th>\n",
       "      <td>1</td>\n",
       "      <td>2</td>\n",
       "      <td>1</td>\n",
       "      <td>1</td>\n",
       "      <td>1</td>\n",
       "    </tr>\n",
       "    <tr>\n",
       "      <th>1</th>\n",
       "      <td>1</td>\n",
       "      <td>1</td>\n",
       "      <td>1</td>\n",
       "      <td>1</td>\n",
       "      <td>1</td>\n",
       "    </tr>\n",
       "    <tr>\n",
       "      <th>2</th>\n",
       "      <td>1</td>\n",
       "      <td>2</td>\n",
       "      <td>1</td>\n",
       "      <td>2</td>\n",
       "      <td>1</td>\n",
       "    </tr>\n",
       "    <tr>\n",
       "      <th>3</th>\n",
       "      <td>0</td>\n",
       "      <td>0</td>\n",
       "      <td>2</td>\n",
       "      <td>0</td>\n",
       "      <td>0</td>\n",
       "    </tr>\n",
       "    <tr>\n",
       "      <th>4</th>\n",
       "      <td>0</td>\n",
       "      <td>0</td>\n",
       "      <td>0</td>\n",
       "      <td>0</td>\n",
       "      <td>2</td>\n",
       "    </tr>\n",
       "    <tr>\n",
       "      <th>5</th>\n",
       "      <td>0</td>\n",
       "      <td>0</td>\n",
       "      <td>0</td>\n",
       "      <td>0</td>\n",
       "      <td>2</td>\n",
       "    </tr>\n",
       "    <tr>\n",
       "      <th>6</th>\n",
       "      <td>0</td>\n",
       "      <td>0</td>\n",
       "      <td>0</td>\n",
       "      <td>0</td>\n",
       "      <td>2</td>\n",
       "    </tr>\n",
       "    <tr>\n",
       "      <th>7</th>\n",
       "      <td>1</td>\n",
       "      <td>1</td>\n",
       "      <td>1</td>\n",
       "      <td>1</td>\n",
       "      <td>1</td>\n",
       "    </tr>\n",
       "    <tr>\n",
       "      <th>8</th>\n",
       "      <td>0</td>\n",
       "      <td>0</td>\n",
       "      <td>0</td>\n",
       "      <td>0</td>\n",
       "      <td>2</td>\n",
       "    </tr>\n",
       "    <tr>\n",
       "      <th>9</th>\n",
       "      <td>0</td>\n",
       "      <td>0</td>\n",
       "      <td>0</td>\n",
       "      <td>0</td>\n",
       "      <td>2</td>\n",
       "    </tr>\n",
       "    <tr>\n",
       "      <th>10</th>\n",
       "      <td>0</td>\n",
       "      <td>0</td>\n",
       "      <td>0</td>\n",
       "      <td>0</td>\n",
       "      <td>2</td>\n",
       "    </tr>\n",
       "    <tr>\n",
       "      <th>11</th>\n",
       "      <td>0</td>\n",
       "      <td>0</td>\n",
       "      <td>2</td>\n",
       "      <td>0</td>\n",
       "      <td>0</td>\n",
       "    </tr>\n",
       "    <tr>\n",
       "      <th>12</th>\n",
       "      <td>1</td>\n",
       "      <td>2</td>\n",
       "      <td>1</td>\n",
       "      <td>2</td>\n",
       "      <td>1</td>\n",
       "    </tr>\n",
       "    <tr>\n",
       "      <th>13</th>\n",
       "      <td>0</td>\n",
       "      <td>0</td>\n",
       "      <td>0</td>\n",
       "      <td>0</td>\n",
       "      <td>2</td>\n",
       "    </tr>\n",
       "    <tr>\n",
       "      <th>14</th>\n",
       "      <td>1</td>\n",
       "      <td>1</td>\n",
       "      <td>1</td>\n",
       "      <td>1</td>\n",
       "      <td>1</td>\n",
       "    </tr>\n",
       "    <tr>\n",
       "      <th>15</th>\n",
       "      <td>0</td>\n",
       "      <td>0</td>\n",
       "      <td>0</td>\n",
       "      <td>0</td>\n",
       "      <td>2</td>\n",
       "    </tr>\n",
       "    <tr>\n",
       "      <th>16</th>\n",
       "      <td>1</td>\n",
       "      <td>2</td>\n",
       "      <td>1</td>\n",
       "      <td>2</td>\n",
       "      <td>1</td>\n",
       "    </tr>\n",
       "    <tr>\n",
       "      <th>17</th>\n",
       "      <td>1</td>\n",
       "      <td>2</td>\n",
       "      <td>1</td>\n",
       "      <td>2</td>\n",
       "      <td>1</td>\n",
       "    </tr>\n",
       "    <tr>\n",
       "      <th>18</th>\n",
       "      <td>0</td>\n",
       "      <td>0</td>\n",
       "      <td>2</td>\n",
       "      <td>0</td>\n",
       "      <td>0</td>\n",
       "    </tr>\n",
       "    <tr>\n",
       "      <th>19</th>\n",
       "      <td>0</td>\n",
       "      <td>0</td>\n",
       "      <td>0</td>\n",
       "      <td>0</td>\n",
       "      <td>2</td>\n",
       "    </tr>\n",
       "  </tbody>\n",
       "</table>\n",
       "</div>"
      ],
      "text/plain": [
       "    original_labels  kmeans_labels  fcmeans_labels  qkmeans_labels  \\\n",
       "0                 1              2               1               1   \n",
       "1                 1              1               1               1   \n",
       "2                 1              2               1               2   \n",
       "3                 0              0               2               0   \n",
       "4                 0              0               0               0   \n",
       "5                 0              0               0               0   \n",
       "6                 0              0               0               0   \n",
       "7                 1              1               1               1   \n",
       "8                 0              0               0               0   \n",
       "9                 0              0               0               0   \n",
       "10                0              0               0               0   \n",
       "11                0              0               2               0   \n",
       "12                1              2               1               2   \n",
       "13                0              0               0               0   \n",
       "14                1              1               1               1   \n",
       "15                0              0               0               0   \n",
       "16                1              2               1               2   \n",
       "17                1              2               1               2   \n",
       "18                0              0               2               0   \n",
       "19                0              0               0               0   \n",
       "\n",
       "    qfcm_labels  \n",
       "0             1  \n",
       "1             1  \n",
       "2             1  \n",
       "3             0  \n",
       "4             2  \n",
       "5             2  \n",
       "6             2  \n",
       "7             1  \n",
       "8             2  \n",
       "9             2  \n",
       "10            2  \n",
       "11            0  \n",
       "12            1  \n",
       "13            2  \n",
       "14            1  \n",
       "15            2  \n",
       "16            1  \n",
       "17            1  \n",
       "18            0  \n",
       "19            2  "
      ]
     },
     "execution_count": 85,
     "metadata": {},
     "output_type": "execute_result"
    }
   ],
   "source": [
    "data_test = {\"original_labels\": y_test, \n",
    "        \"kmeans_labels\": kmeans_predictions,\n",
    "        \"fcmeans_labels\": fcmeans_predictions, \n",
    "        \"qkmeans_labels\": qkmeans_predictions,\n",
    "        \"qfcm_labels\": qfcm_predictions_new}\n",
    "df = pd.DataFrame(data=data_test)\n",
    "df"
   ]
  },
  {
   "cell_type": "code",
   "execution_count": 86,
   "metadata": {},
   "outputs": [
    {
     "data": {
      "text/plain": [
       "0.75"
      ]
     },
     "execution_count": 86,
     "metadata": {},
     "output_type": "execute_result"
    }
   ],
   "source": [
    "# Kmeans Precision\n",
    "df[df.original_labels==df.kmeans_labels].__len__() / df.shape[0]"
   ]
  },
  {
   "cell_type": "code",
   "execution_count": 87,
   "metadata": {},
   "outputs": [
    {
     "data": {
      "text/plain": [
       "0.85"
      ]
     },
     "execution_count": 87,
     "metadata": {},
     "output_type": "execute_result"
    }
   ],
   "source": [
    "# fuzzy C-means Precision\n",
    "df[df.original_labels==df.fcmeans_labels].__len__() / df.shape[0]"
   ]
  },
  {
   "cell_type": "code",
   "execution_count": 88,
   "metadata": {},
   "outputs": [
    {
     "data": {
      "text/plain": [
       "0.8"
      ]
     },
     "execution_count": 88,
     "metadata": {},
     "output_type": "execute_result"
    }
   ],
   "source": [
    "# quantum K-means Precision\n",
    "df[df.original_labels==df.qkmeans_labels].__len__() / df.shape[0]"
   ]
  },
  {
   "cell_type": "code",
   "execution_count": 126,
   "metadata": {},
   "outputs": [
    {
     "data": {
      "text/plain": [
       "0.0"
      ]
     },
     "execution_count": 126,
     "metadata": {},
     "output_type": "execute_result"
    }
   ],
   "source": [
    "# quantum fuzzy C-means Precision\n",
    "df[df.original_labels==df.qfcm_labels].__len__() / df.shape[0]"
   ]
  },
  {
   "cell_type": "code",
   "execution_count": 138,
   "metadata": {},
   "outputs": [
    {
     "data": {
      "text/plain": [
       "array([[21,  0, 17],\n",
       "       [ 4, 37,  1],\n",
       "       [ 0,  0,  0]], dtype=int64)"
      ]
     },
     "execution_count": 138,
     "metadata": {},
     "output_type": "execute_result"
    }
   ],
   "source": [
    "confusion_matrix(y_train, qfcm_labels_new)"
   ]
  },
  {
   "cell_type": "code",
   "execution_count": 139,
   "metadata": {},
   "outputs": [
    {
     "data": {
      "text/plain": [
       "0.725"
      ]
     },
     "execution_count": 139,
     "metadata": {},
     "output_type": "execute_result"
    }
   ],
   "source": [
    "from sklearn.metrics import accuracy_score\n",
    "\n",
    "accuracy_score(y_train, qfcm_labels_new)"
   ]
  },
  {
   "cell_type": "code",
   "execution_count": 144,
   "metadata": {},
   "outputs": [
    {
     "name": "stdout",
     "output_type": "stream",
     "text": [
      "              precision    recall  f1-score   support\n",
      "\n",
      "           0       0.84      0.55      0.67        38\n",
      "           1       1.00      0.88      0.94        42\n",
      "           2       0.00      0.00      0.00         0\n",
      "\n",
      "    accuracy                           0.73        80\n",
      "   macro avg       0.61      0.48      0.53        80\n",
      "weighted avg       0.92      0.72      0.81        80\n",
      "\n"
     ]
    },
    {
     "name": "stderr",
     "output_type": "stream",
     "text": [
      "C:\\Users\\koppany\\AppData\\Local\\Programs\\Python\\Python38\\lib\\site-packages\\sklearn\\metrics\\_classification.py:1245: UndefinedMetricWarning: Recall and F-score are ill-defined and being set to 0.0 in labels with no true samples. Use `zero_division` parameter to control this behavior.\n",
      "  _warn_prf(average, modifier, msg_start, len(result))\n",
      "C:\\Users\\koppany\\AppData\\Local\\Programs\\Python\\Python38\\lib\\site-packages\\sklearn\\metrics\\_classification.py:1245: UndefinedMetricWarning: Recall and F-score are ill-defined and being set to 0.0 in labels with no true samples. Use `zero_division` parameter to control this behavior.\n",
      "  _warn_prf(average, modifier, msg_start, len(result))\n",
      "C:\\Users\\koppany\\AppData\\Local\\Programs\\Python\\Python38\\lib\\site-packages\\sklearn\\metrics\\_classification.py:1245: UndefinedMetricWarning: Recall and F-score are ill-defined and being set to 0.0 in labels with no true samples. Use `zero_division` parameter to control this behavior.\n",
      "  _warn_prf(average, modifier, msg_start, len(result))\n"
     ]
    }
   ],
   "source": [
    "from sklearn.metrics import classification_report\n",
    "\n",
    "print(classification_report(y_train, qfcm_labels_new, labels=[0, 1, 2]))"
   ]
  },
  {
   "cell_type": "code",
   "execution_count": 142,
   "metadata": {},
   "outputs": [
    {
     "name": "stdout",
     "output_type": "stream",
     "text": [
      "              precision    recall  f1-score   support\n",
      "\n",
      "           0       1.00      0.97      0.99        38\n",
      "           1       0.96      0.60      0.74        42\n",
      "           2       0.00      0.00      0.00         0\n",
      "\n",
      "    accuracy                           0.78        80\n",
      "   macro avg       0.65      0.52      0.57        80\n",
      "weighted avg       0.98      0.78      0.85        80\n",
      "\n"
     ]
    },
    {
     "name": "stderr",
     "output_type": "stream",
     "text": [
      "C:\\Users\\koppany\\AppData\\Local\\Programs\\Python\\Python38\\lib\\site-packages\\sklearn\\metrics\\_classification.py:1245: UndefinedMetricWarning: Recall and F-score are ill-defined and being set to 0.0 in labels with no true samples. Use `zero_division` parameter to control this behavior.\n",
      "  _warn_prf(average, modifier, msg_start, len(result))\n",
      "C:\\Users\\koppany\\AppData\\Local\\Programs\\Python\\Python38\\lib\\site-packages\\sklearn\\metrics\\_classification.py:1245: UndefinedMetricWarning: Recall and F-score are ill-defined and being set to 0.0 in labels with no true samples. Use `zero_division` parameter to control this behavior.\n",
      "  _warn_prf(average, modifier, msg_start, len(result))\n",
      "C:\\Users\\koppany\\AppData\\Local\\Programs\\Python\\Python38\\lib\\site-packages\\sklearn\\metrics\\_classification.py:1245: UndefinedMetricWarning: Recall and F-score are ill-defined and being set to 0.0 in labels with no true samples. Use `zero_division` parameter to control this behavior.\n",
      "  _warn_prf(average, modifier, msg_start, len(result))\n"
     ]
    }
   ],
   "source": [
    "print(classification_report(y_train, qkmeans_labels))"
   ]
  }
 ],
 "metadata": {
  "interpreter": {
   "hash": "5748aa8d8081968739a743df91ce44ad03fc23bb82760fcd4bbf4a585108ec0d"
  },
  "kernelspec": {
   "display_name": "Python 3.8.6rc1 ('.venv': venv)",
   "language": "python",
   "name": "python3"
  },
  "language_info": {
   "codemirror_mode": {
    "name": "ipython",
    "version": 3
   },
   "file_extension": ".py",
   "mimetype": "text/x-python",
   "name": "python",
   "nbconvert_exporter": "python",
   "pygments_lexer": "ipython3",
   "version": "3.8.6rc1"
  },
  "orig_nbformat": 4
 },
 "nbformat": 4,
 "nbformat_minor": 2
}
