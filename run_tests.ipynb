{
 "cells": [
  {
   "cell_type": "code",
   "execution_count": null,
   "metadata": {},
   "outputs": [],
   "source": [
    "import os\n",
    "import matplotlib.pyplot as plt\n",
    "import pandas as pd\n",
    "from qiskit import BasicAer\n",
    "from qiskit.utils import QuantumInstance, algorithm_globals\n",
    "\n",
    "import numpy as np\n",
    "\n",
    "from sklearn.preprocessing import MinMaxScaler, RobustScaler\n",
    "from sklearn.decomposition import PCA\n",
    "from sklearn.cluster import KMeans\n",
    "from fcmeans import FCM\n",
    "from quantum_clustering import QKMeans, QFCMeans\n",
    "\n",
    "seed = 42\n",
    "algorithm_globals.random_seed = seed\n",
    "quantum_instance = QuantumInstance(BasicAer.get_backend('qasm_simulator'), \n",
    "                                    shots=10240,\n",
    "                                    optimization_level=1,\n",
    "                                    seed_simulator=seed,\n",
    "                                    seed_transpiler=seed)\n",
    "# read sample data\n",
    "path = os.getcwd()\n",
    "mdck = pd.read_csv(\n",
    "    path + '\\\\data\\\\2018-02_20 1459-MDCK-CRR.txt', \n",
    "    header = None, sep='\\t', index_col=0).transpose()\n",
    "\n",
    "# PCA then scale data for ML\n",
    "pca = PCA(70)\n",
    "pca.fit(mdck)\n",
    "mdck_pca = pca.transform(mdck)\n",
    "\n",
    "scaler = RobustScaler()\n",
    "scaler.fit(mdck_pca)\n",
    "mdck_scaled = scaler.transform(mdck_pca)"
   ]
  },
  {
   "cell_type": "code",
   "execution_count": null,
   "metadata": {},
   "outputs": [],
   "source": [
    "random_color_map = {0: np.array([1, 1, 0]), # yellow\n",
    "             1: np.array([0, 0, 0.294]), # black\n",
    "             2: np.array([0.6, 0.196, 0.8]), # purple\n",
    "             3: np.array([0, 1, 0]), # lime\n",
    "             4: np.array([0.862, 0.078, 0.235]), # red\n",
    "             5: np.array([0.921, 0.694, 0.203]), # orange\n",
    "             6: np.array([0.039, 0.411, 0.145]), # dark green\n",
    "             7: np.array([0.054, 0.552, 0.588])} # turquoise\n",
    "\n",
    "def transform_labels_to_colorcode(data: np.array,\n",
    "                                  dimension: int,\n",
    "                                  color_map: dict,\n",
    "                                  membership_scores=np.array([])):\n",
    "\n",
    "    data_reshaped = data.reshape(-1, 100)\n",
    "    data_colorcoded = np.ndarray(shape=(data_reshaped.shape[0],\n",
    "                                        data_reshaped.shape[1],\n",
    "                                        dimension),\n",
    "                                 dtype=float)\n",
    "    for i in range(0, data_reshaped.shape[0]):\n",
    "        for j in range(0, data_reshaped.shape[1]):\n",
    "            if dimension == 3:\n",
    "                data_colorcoded[i][j] = color_map[data_reshaped[i][j]]\n",
    "            elif dimension == 4:\n",
    "                data_colorcoded[i][j] = np.append(color_map[\n",
    "                    data_reshaped[i][j]],\n",
    "                    membership_scores[i][j]*3)\n",
    "    return data_colorcoded\n",
    "\n",
    "def reconstruct_image(data: np.array, save_as: str):\n",
    "    plt.figure(figsize=(10, 10))\n",
    "    plt.axis('off')\n",
    "    plt.imshow(data)"
   ]
  },
  {
   "cell_type": "code",
   "execution_count": null,
   "metadata": {},
   "outputs": [],
   "source": [
    "qkmeans = QKMeans(n_clusters=5, quantum_instance=quantum_instance).fit(mdck_scaled)\n",
    "qkmeans_centers = qkmeans.cluster_centers_\n",
    "qkmeans_labels = qkmeans.labels_"
   ]
  },
  {
   "cell_type": "code",
   "execution_count": null,
   "metadata": {},
   "outputs": [],
   "source": [
    "qkmeans_centers[0]"
   ]
  },
  {
   "cell_type": "code",
   "execution_count": null,
   "metadata": {},
   "outputs": [],
   "source": [
    "qkmeans.labels_"
   ]
  },
  {
   "cell_type": "code",
   "execution_count": 3,
   "metadata": {},
   "outputs": [],
   "source": [
    "qfcm = QFCMeans(n_clusters=5, quantum_instance=quantum_instance).fit(mdck_scaled)\n",
    "qfcm_centers = qkmeans.cluster_centers_\n",
    "qfcm_labels = qfcm.labels_"
   ]
  },
  {
   "cell_type": "code",
   "execution_count": null,
   "metadata": {},
   "outputs": [],
   "source": [
    "qfcm_centers[0]"
   ]
  },
  {
   "cell_type": "code",
   "execution_count": null,
   "metadata": {},
   "outputs": [],
   "source": [
    "qfcm_labels"
   ]
  },
  {
   "cell_type": "code",
   "execution_count": null,
   "metadata": {},
   "outputs": [],
   "source": [
    "np.sum(qfcm.u, axis=1)"
   ]
  },
  {
   "cell_type": "code",
   "execution_count": null,
   "metadata": {},
   "outputs": [],
   "source": [
    "kmeans = KMeans(n_clusters=5, random_state=0).fit(mdck_scaled)\n",
    "kmeans_centers = kmeans.cluster_centers_\n",
    "kmeans_labels = kmeans.labels_"
   ]
  },
  {
   "cell_type": "code",
   "execution_count": null,
   "metadata": {},
   "outputs": [],
   "source": [
    "kmeans_labels_colorcoded = transform_labels_to_colorcode(\n",
    "    kmeans_labels, 3, random_color_map)\n",
    "reconstruct_image(kmeans_labels_colorcoded, 'kmeans')"
   ]
  },
  {
   "cell_type": "code",
   "execution_count": null,
   "metadata": {},
   "outputs": [],
   "source": [
    "fcm = FCM(n_clusters=5)\n",
    "fcm.fit(mdck_pca)\n",
    "fcm_labels = fcm.predict(mdck_pca)\n",
    "fcm_labels_memberships = fcm.soft_predict(mdck_pca)\n",
    "fcm_labels_membership = [\n",
    "    fcm_labels_memberships[i][fcm_labels[i]] for i in range(len(fcm_labels))\n",
    "    ]\n",
    "\n",
    "fcm_labels_membership = np.array(fcm_labels_membership)\n",
    "fcm_labels_membership = fcm_labels_membership.reshape(-1, 100)\n",
    "membership_scaler = MinMaxScaler()\n",
    "fcm_labels_membership = membership_scaler.fit_transform(\n",
    "    fcm_labels_membership\n",
    "    )\n",
    "\n",
    "fcm_labels_colorcoded = transform_labels_to_colorcode(\n",
    "    fcm_labels, 4, random_color_map, membership_scores=fcm_labels_membership)\n",
    "reconstruct_image(fcm_labels_colorcoded, 'fcm')\n"
   ]
  },
  {
   "cell_type": "code",
   "execution_count": null,
   "metadata": {},
   "outputs": [],
   "source": [
    "fcm.centers[0]"
   ]
  }
 ],
 "metadata": {
  "interpreter": {
   "hash": "704dfaaa99bd000a88e87199e14a4afdb76c67b1f7f95bfc8d184e4176462551"
  },
  "kernelspec": {
   "display_name": "Python 3.8.6rc1 64-bit",
   "language": "python",
   "name": "python3"
  },
  "language_info": {
   "codemirror_mode": {
    "name": "ipython",
    "version": 3
   },
   "file_extension": ".py",
   "mimetype": "text/x-python",
   "name": "python",
   "nbconvert_exporter": "python",
   "pygments_lexer": "ipython3",
   "version": "3.8.6rc1"
  },
  "orig_nbformat": 4
 },
 "nbformat": 4,
 "nbformat_minor": 2
}
